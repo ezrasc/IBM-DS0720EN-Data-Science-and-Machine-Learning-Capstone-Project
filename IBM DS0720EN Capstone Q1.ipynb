{
 "metadata": {
  "language_info": {
   "codemirror_mode": {
    "name": "ipython",
    "version": 3
   },
   "file_extension": ".py",
   "mimetype": "text/x-python",
   "name": "python",
   "nbconvert_exporter": "python",
   "pygments_lexer": "ipython3",
   "version": "3.9.1-final"
  },
  "orig_nbformat": 2,
  "kernelspec": {
   "name": "python3",
   "display_name": "Python 3.9.1 64-bit (conda)",
   "metadata": {
    "interpreter": {
     "hash": "27cc6c982624266869dcd04d8180db5ef0cc377cee8f16dc4386cd13683fc9ce"
    }
   }
  }
 },
 "nbformat": 4,
 "nbformat_minor": 2,
 "cells": [
  {
   "source": [
    "# Question 1: Which type of complaint should the Department of Housing Preservation and Development of New York City focus on first!?\n",
    "\n",
    "Using the NYC 311 dataset I will first import and examine the contents within"
   ],
   "cell_type": "markdown",
   "metadata": {}
  },
  {
   "source": [
    "import pandas as pd\n",
    "\n",
    "#import local path of NYC 311 data\n",
    "data = r\"F:\\Portfolio Projects\\edX\\IBM DS0720EN Data Science and Machine Learning Capstone Project\\311_Service_Requests_from_2010_to_Present_min.csv\"\n",
    "\n",
    "#create a pandas dataframe for data exploration\n",
    "df = pd.read_csv(data)\n",
    "\n",
    "#check the shape of the dataset\n",
    "df.shape"
   ],
   "cell_type": "code",
   "metadata": {},
   "execution_count": 7,
   "outputs": [
    {
     "output_type": "execute_result",
     "data": {
      "text/plain": [
       "(6019843, 16)"
      ]
     },
     "metadata": {},
     "execution_count": 7
    }
   ]
  },
  {
   "source": [
    "Now that we know the dataset contains 6,019,843 rows by 16 columns we can examine a sample of the dataset as well as a list of each column header with their corresponding data type"
   ],
   "cell_type": "markdown",
   "metadata": {}
  },
  {
   "cell_type": "code",
   "execution_count": 10,
   "metadata": {},
   "outputs": [
    {
     "output_type": "execute_result",
     "data": {
      "text/plain": [
       "   Unnamed: 0  Unique Key            Created Date Closed Date  \\\n",
       "0           0    45531130  02/02/2020 06:09:17 AM         NaN   \n",
       "1           1    45529784  02/02/2020 02:15:24 PM         NaN   \n",
       "2           2    45527528  02/02/2020 02:27:41 AM         NaN   \n",
       "3           3    45530329  02/02/2020 12:13:18 PM         NaN   \n",
       "4           4    45528814  02/02/2020 01:59:44 PM         NaN   \n",
       "\n",
       "         Complaint Type         Location Type  Incident Zip  \\\n",
       "0        HEAT/HOT WATER  RESIDENTIAL BUILDING       10019.0   \n",
       "1  UNSANITARY CONDITION  RESIDENTIAL BUILDING       11204.0   \n",
       "2        HEAT/HOT WATER  RESIDENTIAL BUILDING       11372.0   \n",
       "3        HEAT/HOT WATER  RESIDENTIAL BUILDING       10458.0   \n",
       "4             APPLIANCE  RESIDENTIAL BUILDING       11209.0   \n",
       "\n",
       "          Incident Address         Street Name Address Type             City  \\\n",
       "0     426 WEST   52 STREET    WEST   52 STREET      ADDRESS         NEW YORK   \n",
       "1           1751 67 STREET           67 STREET      ADDRESS         BROOKLYN   \n",
       "2          87-15 37 AVENUE           37 AVENUE      ADDRESS  Jackson Heights   \n",
       "3  2405 SOUTHERN BOULEVARD  SOUTHERN BOULEVARD      ADDRESS            BRONX   \n",
       "4            223 78 STREET           78 STREET      ADDRESS         BROOKLYN   \n",
       "\n",
       "  Status                             Resolution Description    Borough  \\\n",
       "0   Open  The following complaint conditions are still o...  MANHATTAN   \n",
       "1   Open  The following complaint conditions are still o...   BROOKLYN   \n",
       "2   Open  The following complaint conditions are still o...     QUEENS   \n",
       "3   Open  The following complaint conditions are still o...      BRONX   \n",
       "4   Open  The following complaint conditions are still o...   BROOKLYN   \n",
       "\n",
       "    Latitude  Longitude  \n",
       "0  40.765132 -73.988993  \n",
       "1  40.618484 -73.992673  \n",
       "2  40.750269 -73.879432  \n",
       "3  40.853773 -73.881558  \n",
       "4  40.629745 -74.030533  "
      ],
      "text/html": "<div>\n<style scoped>\n    .dataframe tbody tr th:only-of-type {\n        vertical-align: middle;\n    }\n\n    .dataframe tbody tr th {\n        vertical-align: top;\n    }\n\n    .dataframe thead th {\n        text-align: right;\n    }\n</style>\n<table border=\"1\" class=\"dataframe\">\n  <thead>\n    <tr style=\"text-align: right;\">\n      <th></th>\n      <th>Unnamed: 0</th>\n      <th>Unique Key</th>\n      <th>Created Date</th>\n      <th>Closed Date</th>\n      <th>Complaint Type</th>\n      <th>Location Type</th>\n      <th>Incident Zip</th>\n      <th>Incident Address</th>\n      <th>Street Name</th>\n      <th>Address Type</th>\n      <th>City</th>\n      <th>Status</th>\n      <th>Resolution Description</th>\n      <th>Borough</th>\n      <th>Latitude</th>\n      <th>Longitude</th>\n    </tr>\n  </thead>\n  <tbody>\n    <tr>\n      <th>0</th>\n      <td>0</td>\n      <td>45531130</td>\n      <td>02/02/2020 06:09:17 AM</td>\n      <td>NaN</td>\n      <td>HEAT/HOT WATER</td>\n      <td>RESIDENTIAL BUILDING</td>\n      <td>10019.0</td>\n      <td>426 WEST   52 STREET</td>\n      <td>WEST   52 STREET</td>\n      <td>ADDRESS</td>\n      <td>NEW YORK</td>\n      <td>Open</td>\n      <td>The following complaint conditions are still o...</td>\n      <td>MANHATTAN</td>\n      <td>40.765132</td>\n      <td>-73.988993</td>\n    </tr>\n    <tr>\n      <th>1</th>\n      <td>1</td>\n      <td>45529784</td>\n      <td>02/02/2020 02:15:24 PM</td>\n      <td>NaN</td>\n      <td>UNSANITARY CONDITION</td>\n      <td>RESIDENTIAL BUILDING</td>\n      <td>11204.0</td>\n      <td>1751 67 STREET</td>\n      <td>67 STREET</td>\n      <td>ADDRESS</td>\n      <td>BROOKLYN</td>\n      <td>Open</td>\n      <td>The following complaint conditions are still o...</td>\n      <td>BROOKLYN</td>\n      <td>40.618484</td>\n      <td>-73.992673</td>\n    </tr>\n    <tr>\n      <th>2</th>\n      <td>2</td>\n      <td>45527528</td>\n      <td>02/02/2020 02:27:41 AM</td>\n      <td>NaN</td>\n      <td>HEAT/HOT WATER</td>\n      <td>RESIDENTIAL BUILDING</td>\n      <td>11372.0</td>\n      <td>87-15 37 AVENUE</td>\n      <td>37 AVENUE</td>\n      <td>ADDRESS</td>\n      <td>Jackson Heights</td>\n      <td>Open</td>\n      <td>The following complaint conditions are still o...</td>\n      <td>QUEENS</td>\n      <td>40.750269</td>\n      <td>-73.879432</td>\n    </tr>\n    <tr>\n      <th>3</th>\n      <td>3</td>\n      <td>45530329</td>\n      <td>02/02/2020 12:13:18 PM</td>\n      <td>NaN</td>\n      <td>HEAT/HOT WATER</td>\n      <td>RESIDENTIAL BUILDING</td>\n      <td>10458.0</td>\n      <td>2405 SOUTHERN BOULEVARD</td>\n      <td>SOUTHERN BOULEVARD</td>\n      <td>ADDRESS</td>\n      <td>BRONX</td>\n      <td>Open</td>\n      <td>The following complaint conditions are still o...</td>\n      <td>BRONX</td>\n      <td>40.853773</td>\n      <td>-73.881558</td>\n    </tr>\n    <tr>\n      <th>4</th>\n      <td>4</td>\n      <td>45528814</td>\n      <td>02/02/2020 01:59:44 PM</td>\n      <td>NaN</td>\n      <td>APPLIANCE</td>\n      <td>RESIDENTIAL BUILDING</td>\n      <td>11209.0</td>\n      <td>223 78 STREET</td>\n      <td>78 STREET</td>\n      <td>ADDRESS</td>\n      <td>BROOKLYN</td>\n      <td>Open</td>\n      <td>The following complaint conditions are still o...</td>\n      <td>BROOKLYN</td>\n      <td>40.629745</td>\n      <td>-74.030533</td>\n    </tr>\n  </tbody>\n</table>\n</div>"
     },
     "metadata": {},
     "execution_count": 10
    }
   ],
   "source": [
    "#Check the first 5 rows of the dataset\n",
    "df.head()"
   ]
  },
  {
   "cell_type": "code",
   "execution_count": 11,
   "metadata": {},
   "outputs": [
    {
     "output_type": "stream",
     "name": "stdout",
     "text": [
      "<class 'pandas.core.frame.DataFrame'>\nRangeIndex: 6019843 entries, 0 to 6019842\nData columns (total 16 columns):\n #   Column                  Dtype  \n---  ------                  -----  \n 0   Unnamed: 0              int64  \n 1   Unique Key              int64  \n 2   Created Date            object \n 3   Closed Date             object \n 4   Complaint Type          object \n 5   Location Type           object \n 6   Incident Zip            float64\n 7   Incident Address        object \n 8   Street Name             object \n 9   Address Type            object \n 10  City                    object \n 11  Status                  object \n 12  Resolution Description  object \n 13  Borough                 object \n 14  Latitude                float64\n 15  Longitude               float64\ndtypes: float64(3), int64(2), object(11)\nmemory usage: 734.8+ MB\n"
     ]
    }
   ],
   "source": [
    "df.info()"
   ]
  },
  {
   "source": [
    "Keep data only for relevant columns so that the data volume is manageable. These are the recommended\n",
    "\n",
    "fields: created_date,unique_key,complaint_type, incident_zip,incident_address,street_name,address_type,city,resolution_description, borough,latitude,longitude,closed_date,location_type,status\n",
    "\n",
    "According to the capstone author's reccomendations we will keep 14 of the 16 columns by removing \"Unnamed: 0\" and \"Closed Date\""
   ],
   "cell_type": "markdown",
   "metadata": {}
  },
  {
   "cell_type": "code",
   "execution_count": null,
   "metadata": {},
   "outputs": [],
   "source": [
    "df"
   ]
  }
 ]
}